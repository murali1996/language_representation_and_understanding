{
 "cells": [
  {
   "cell_type": "markdown",
   "metadata": {},
   "source": [
    "# Libraries & Path Setting "
   ]
  },
  {
   "cell_type": "code",
   "execution_count": 1,
   "metadata": {},
   "outputs": [
    {
     "name": "stderr",
     "output_type": "stream",
     "text": [
      "/data/ontology/anaconda3/envs/conda_env_murali/lib/python3.6/site-packages/h5py/__init__.py:36: FutureWarning: Conversion of the second argument of issubdtype from `float` to `np.floating` is deprecated. In future, it will be treated as `np.float64 == np.dtype(float).type`.\n",
      "  from ._conv import register_converters as _register_converters\n"
     ]
    }
   ],
   "source": [
    "import sys, os\n",
    "import tensorflow as tf\n",
    "import tensorflow_hub as hub\n",
    "import re\n",
    "import numpy as np\n",
    "import matplotlib.pyplot as plt\n",
    "from sklearn.metrics.pairwise import cosine_similarity"
   ]
  },
  {
   "cell_type": "code",
   "execution_count": 2,
   "metadata": {},
   "outputs": [],
   "source": [
    "sys.path.append(\"..\")\n",
    "os.environ[\"CUDA_VISIBLE_DEVICES\"]='2';\n",
    "tf_sess_config = tf.ConfigProto()\n",
    "tf_sess_config.gpu_options.allow_growth = True"
   ]
  },
  {
   "cell_type": "code",
   "execution_count": null,
   "metadata": {},
   "outputs": [],
   "source": [
    "!ls"
   ]
  },
  {
   "cell_type": "markdown",
   "metadata": {},
   "source": [
    "# Analyze at word level"
   ]
  },
  {
   "cell_type": "code",
   "execution_count": 3,
   "metadata": {},
   "outputs": [
    {
     "name": "stdout",
     "output_type": "stream",
     "text": [
      "INFO:tensorflow:Using /tmp/tfhub_modules to cache modules.\n"
     ]
    }
   ],
   "source": [
    "tf.reset_default_graph();\n",
    "elmo = hub.Module(\"../Data/elmo2\", trainable=True)"
   ]
  },
  {
   "cell_type": "code",
   "execution_count": null,
   "metadata": {},
   "outputs": [],
   "source": [
    "def ElmoEmbedding_v1(sent_list): \n",
    "    return elmo(sent_list,signature=\"default\",as_dict=True)[\"elmo\"]\n",
    "\n",
    "def ElmoEmbedding_v2(tokens_input, tokens_length): \n",
    "    return elmo(inputs={\"tokens\": tokens_input,\"sequence_len\": tokens_length},signature=\"tokens\",as_dict=True)[\"elmo\"]     "
   ]
  },
  {
   "cell_type": "code",
   "execution_count": null,
   "metadata": {},
   "outputs": [],
   "source": [
    "sents = ['My samsung galaxy next has charging problem', \n",
    "         'me samsung galxy nxt hs charging probs'];\n",
    "with tf.Session(config=tf_sess_config, graph=tf.get_default_graph()) as sess:\n",
    "    sess.run(tf.global_variables_initializer());\n",
    "    embs_ = ElmoEmbedding_v1(sents);\n",
    "    embs = sess.run([embs_])[0];  "
   ]
  },
  {
   "cell_type": "code",
   "execution_count": null,
   "metadata": {},
   "outputs": [],
   "source": [
    "sents = ['Why device is showing full storage after software update is it consuming lots of space of device.', \n",
    "         'y dvice is shwing fll strg aftr sftr updt / @ consuming lts off spce of device.'];\n",
    "with tf.Session(config=tf_sess_config, graph=tf.get_default_graph()) as sess:\n",
    "    sess.run(tf.global_variables_initializer());\n",
    "    embs_ = ElmoEmbedding_v1(sents);\n",
    "    embs = sess.run([embs_])[0];  "
   ]
  },
  {
   "cell_type": "code",
   "execution_count": null,
   "metadata": {},
   "outputs": [],
   "source": [
    "def similarity(X,Y):\n",
    "    return cosine_similarity(X,Y)\n",
    "\n",
    "sim_ = similarity(embs[0][:],embs[1][:])\n",
    "sim = np.around(sim_, decimals=1)\n",
    "print(sim)"
   ]
  },
  {
   "cell_type": "code",
   "execution_count": null,
   "metadata": {},
   "outputs": [],
   "source": [
    "fig, ax = plt.subplots(1, 1)\n",
    "c = ax.pcolor(sim)\n",
    "ax.set_title('color_gradient');\n",
    "fig.tight_layout()\n",
    "plt.show()"
   ]
  },
  {
   "cell_type": "markdown",
   "metadata": {},
   "source": [
    "# Analyze at Senetence Level"
   ]
  },
  {
   "cell_type": "code",
   "execution_count": 64,
   "metadata": {},
   "outputs": [],
   "source": [
    "# List \n",
    "sents = ['','',''];"
   ]
  },
  {
   "cell_type": "code",
   "execution_count": 65,
   "metadata": {},
   "outputs": [],
   "source": [
    "def cleanText_Spaces_(sents):\n",
    "    new_sents = [];\n",
    "    new_sents_lens = [];\n",
    "    for sent in sents:\n",
    "        tokens = [x for x in re.split('\\W+', sent) if x]\n",
    "        new_sents.append(tokens)\n",
    "        new_sents_lens.append(len(tokens))\n",
    "    return new_sents, new_sents_lens"
   ]
  },
  {
   "cell_type": "code",
   "execution_count": 66,
   "metadata": {},
   "outputs": [],
   "source": [
    "def sents_for_elmo_input(new_sents, new_sents_lens):\n",
    "    max_len = np.max(new_sents_lens)\n",
    "    for i, token_list in enumerate(new_sents):\n",
    "        new_sents[i]+=[\"\"]*(max_len-new_sents_lens[i])\n",
    "    return np.vstack(new_sents), np.stack(new_sents_lens)"
   ]
  },
  {
   "cell_type": "code",
   "execution_count": 67,
   "metadata": {},
   "outputs": [
    {
     "name": "stdout",
     "output_type": "stream",
     "text": [
      "[['What', 'is', 'Menu', 'Transparency'], ['Need', 'info', 'about', 'menu', 'transparency'], ['I', 'want', 'to', 'make', 'a', 'reservation', 'in', 'an', 'Italian', 'restaurant'], ['I', 'need', 'a', 'table', 'in', 'a', 'pizzeria'], ['I', 'donot', 'want', 'to', 'go', 'to', 'movies'], ['I', 'hate', 'watching', 'films', 'at', 'theaters'], ['I', 'love', 'watching', 'movies'], ['i', 'wanna', 'enjoy', 'weekend', 'with', 'a', 'cinema'], ['How', 'to', 'connect', 'an', 'MHL', 'to', 'HDMI', 'cable', 'in', 'TV'], ['Possible', 'way', 'to', 'join', 'hdmi', 'to', 'mhl', 'cable'], ['Guide', 'me', 'with', 'the', 'steps', 'to', 'connect', 'mhl', 'and', 'hdmi', 'cable'], ['What', 'to', 'do', 'when', 'the', 'DVD', 'is', 'getting', 'No', 'Disc', 'error'], ['Disk', 'is', 'not', 'read', 'by', 'DVD', 'player'], ['I', 'am', 'facing', 'disc', 'detection', 'issue', 'in', 'dvd', 'player']] [4, 5, 10, 7, 7, 6, 4, 7, 10, 8, 11, 11, 7, 9]\n",
      "\n",
      "\n",
      "(14, 11) (14,)\n"
     ]
    }
   ],
   "source": [
    "new_sents, new_sents_lens = cleanText_Spaces_(sents)\n",
    "print(new_sents, new_sents_lens)\n",
    "print('\\n')\n",
    "new_new_sents, new_sents_lens = sents_for_elmo_input(new_sents, new_sents_lens)\n",
    "print(new_new_sents.shape, new_sents_lens.shape)"
   ]
  },
  {
   "cell_type": "code",
   "execution_count": 68,
   "metadata": {},
   "outputs": [
    {
     "name": "stdout",
     "output_type": "stream",
     "text": [
      "INFO:tensorflow:Saver not created because there are no variables in the graph to restore\n"
     ]
    }
   ],
   "source": [
    "tf.reset_default_graph();\n",
    "\n",
    "class ELMo_AvgPool(object):\n",
    "    def __init__(self, elmo_module):\n",
    "        self.elmo_module = elmo_module;\n",
    "        self.inp_tokens = tf.placeholder(tf.string, shape=(None, None));\n",
    "        self.inp_tokens_listlen = tf.placeholder(tf.int32, shape=(None,));\n",
    "        self.embs__ = self.Elmo_SentEmbedding(self.inp_tokens, self.inp_tokens_listlen);\n",
    "        self.masks = tf.cast(tf.tile(tf.expand_dims(tf.sequence_mask(self.inp_tokens_listlen),axis=-1),[1,1,tf.shape(self.embs__)[-1]]),tf.float32)\n",
    "        self.embs_ = tf.multiply(self.embs__,self.masks)\n",
    "        self.embs = tf.reduce_mean(self.embs_, axis=-2);\n",
    "    def Elmo_SentEmbedding(self, tokens_input, tokens_lengths):\n",
    "        return self.elmo_module(inputs={\"tokens\": tokens_input,\"sequence_len\": tokens_lengths},signature=\"tokens\",as_dict=True)[\"elmo\"]#shape [bs,max_len,1024]   \n",
    "\n",
    "simple_graph = tf.Graph();\n",
    "with simple_graph.as_default():\n",
    "    elmo_module = hub.Module(\"../Data/elmo2\", trainable=True)\n",
    "    elmo_avg_pool = ELMo_AvgPool(elmo_module)"
   ]
  },
  {
   "cell_type": "code",
   "execution_count": 69,
   "metadata": {},
   "outputs": [],
   "source": [
    "with tf.Session(config=tf_sess_config, graph=simple_graph) as sess:\n",
    "    sess.run(tf.global_variables_initializer())\n",
    "    sess.run(tf.tables_initializer())\n",
    "    embs, embs_, masks = sess.run([elmo_avg_pool.embs, elmo_avg_pool.embs_, elmo_avg_pool.masks],\n",
    "                           feed_dict={elmo_avg_pool.inp_tokens:new_new_sents,\n",
    "                                      elmo_avg_pool.inp_tokens_listlen:new_sents_lens});"
   ]
  },
  {
   "cell_type": "code",
   "execution_count": 70,
   "metadata": {},
   "outputs": [
    {
     "name": "stdout",
     "output_type": "stream",
     "text": [
      "What is Menu Transparency?  ==> Need info about menu transparency.\n",
      "Need info about menu transparency. ==> What is Menu Transparency? \n",
      "I want to make a reservation in an Italian restaurant ==> I need a table in a pizzeria\n",
      "I need a table in a pizzeria ==> I want to make a reservation in an Italian restaurant\n",
      "I donot want to go to movies ==> I hate watching films at theaters\n",
      "I hate watching films at theaters ==> I love watching movies\n",
      "I love watching movies ==> I hate watching films at theaters\n",
      "i wanna enjoy weekend with a cinema ==> I want to make a reservation in an Italian restaurant\n",
      "How to connect an MHL to HDMI cable in TV? ==> Possible way to join hdmi to mhl cable?\n",
      "Possible way to join hdmi to mhl cable? ==> Guide me with the steps to connect mhl and hdmi cable?\n",
      "Guide me with the steps to connect mhl and hdmi cable? ==> How to connect an MHL to HDMI cable in TV?\n",
      "What to do when the DVD is getting No Disc error? ==> What is Menu Transparency? \n",
      "Disk is not read by DVD player. ==> How to connect an MHL to HDMI cable in TV?\n",
      "I am facing disc detection issue in dvd player. ==> How to connect an MHL to HDMI cable in TV?\n"
     ]
    }
   ],
   "source": [
    "#a = np.dot(embs,embs.T)\n",
    "a = cosine_similarity(embs,embs)\n",
    "b = a.max(axis=0)\n",
    "c = a/b\n",
    "d = c-np.eye(c.shape[0])\n",
    "e = np.exp(d)\n",
    "f = e/np.sum(e,axis=1)\n",
    "g = np.around(f, decimals=2)\n",
    "h = np.argmax(g, axis=-1)\n",
    "for i,sent in enumerate(sents):\n",
    "    print(sent+' ==> '+sents[h[i]])"
   ]
  },
  {
   "cell_type": "code",
   "execution_count": null,
   "metadata": {},
   "outputs": [],
   "source": []
  }
 ],
 "metadata": {
  "kernelspec": {
   "display_name": "Python 3",
   "language": "python",
   "name": "python3"
  },
  "language_info": {
   "codemirror_mode": {
    "name": "ipython",
    "version": 3
   },
   "file_extension": ".py",
   "mimetype": "text/x-python",
   "name": "python",
   "nbconvert_exporter": "python",
   "pygments_lexer": "ipython3",
   "version": "3.6.5"
  }
 },
 "nbformat": 4,
 "nbformat_minor": 2
}
