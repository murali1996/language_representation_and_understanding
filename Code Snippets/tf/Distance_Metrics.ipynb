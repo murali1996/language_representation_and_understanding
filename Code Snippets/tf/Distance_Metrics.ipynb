{
 "cells": [
  {
   "cell_type": "code",
   "execution_count": null,
   "metadata": {
    "collapsed": true
   },
   "outputs": [],
   "source": [
    "# Normalize vectors\n",
    "import tensorflow as tf\n",
    "tf.reset_default_graph();\n",
    "entity_embeddings = tf.get_variable('entity_embeddings', shape=[5,2], initializer=tf.contrib.layers.xavier_initializer())\n",
    "entity_norms = entity_embeddings/tf.norm(entity_embeddings,axis=-1,keepdims=True)\n",
    "\n",
    "with tf.Session() as sess:\n",
    "    sess.run(tf.global_variables_initializer());\n",
    "    a,b = sess.run([entity_norms,entity_embeddings])"
   ]
  },
  {
   "cell_type": "code",
   "execution_count": null,
   "metadata": {
    "collapsed": true
   },
   "outputs": [],
   "source": [
    "# Look for top closest vectors for each vector through cosine similarity\n",
    "tf.reset_default_graph();\n",
    "set1_raw = tf.get_variable('set1_raw', shape=[5,3], initializer=tf.contrib.layers.xavier_initializer())\n",
    "set2_raw = tf.get_variable('set2_raw', shape=[10,3], initializer=tf.contrib.layers.xavier_initializer())\n",
    "set1 = set1_raw/tf.norm(set1_raw,axis=-1,keepdims=True);\n",
    "set2 = set2_raw/tf.norm(set2_raw,axis=-1,keepdims=True);\n",
    "dist_matrix = tf.matmul(set1,set2,adjoint_b=True)\n",
    "values, indices = tf.nn.top_k(dist_matrix,k=5);\n",
    "with tf.Session() as sess:\n",
    "    tf.global_variables_initializer().run();\n",
    "    a, b, c, d, e = sess.run([values, indices, set1, set2, dist_matrix])"
   ]
  },
  {
   "cell_type": "code",
   "execution_count": null,
   "metadata": {
    "collapsed": true
   },
   "outputs": [],
   "source": [
    "# Repeat Tensors\n",
    "tf.reset_default_graph();\n",
    "set1_raw = tf.get_variable('set1_raw', shape=[128,1,100], initializer=tf.contrib.layers.xavier_initializer())\n",
    "set2 = tf.tile(set1_raw,[1,50,1])"
   ]
  },
  {
   "cell_type": "code",
   "execution_count": null,
   "metadata": {
    "collapsed": true
   },
   "outputs": [],
   "source": [
    "# Pairwise distances between 2D matrices: both L1 and L2 pairwise norms\n",
    "#==============================================================================\n",
    "# X: [X1,X2,X3,...,Xn], Y=[Y1,Y2,Y3,...,Ym]\n",
    "# Z: shape[nXm]: ||X1-Y1|| ||X1-Y2|| ..... ||X1-Ym||\n",
    "#                ||X2-Y1|| ||X2-Y2|| ..... ||X2-Ym||\n",
    "#                ......\n",
    "#                ||Xn-Y1|| ||Xn-Y2|| ..... ||Xn-Ym||\n",
    "# ||Xi-Yj||=||Xi||+||Yj||-2*dot_prod(Xi,Yj)\n",
    "#=============================================================================="
   ]
  },
  {
   "cell_type": "code",
   "execution_count": null,
   "metadata": {
    "collapsed": true
   },
   "outputs": [],
   "source": [
    "import tensorflow as tf\n",
    "tf.reset_default_graph();\n",
    "def L1_L2_distances_v2(mat1, mat2, abs_power, name):\n",
    "    \"\"\"\n",
    "    mat1 and mat2 MUST be 2D tensors with the last dimension equal\n",
    "    Example: mat1.shape=[batch_size,latent_dim], vec2.shape=[n_entitites,latent_dim]\n",
    "    \"\"\"\n",
    "    assert len(mat1.get_shape().as_list())==2\n",
    "    assert len(mat2.get_shape().as_list())==2\n",
    "    assert mat1.shape[-1]==mat1.shape[-1]\n",
    "    # Set final array n_rows and n_cols\n",
    "    n_rows = mat1.get_shape().as_list()[0];\n",
    "    n_cols = mat2.get_shape().as_list()[0];\n",
    "    if abs_power==2: # L2 norm\n",
    "        mat1_square = tf.pow(tf.reduce_sum(tf.pow(mat1,2),axis=-1,keepdims=True),1/2)\n",
    "        mat1_square = tf.tile(mat1_square,[1,n_cols])\n",
    "        mat2_square = tf.pow(tf.reduce_sum(tf.pow(mat2,2),axis=-1,keepdims=True),1/2)\n",
    "        mat2_square = tf.tile(mat2_square,[1,n_rows])\n",
    "        mat = mat1_square-2*tf.matmul(mat1,mat2,adjoint_b=True)+tf.transpose(mat2_square);\n",
    "    elif abs_power==1: #L1 norm\n",
    "        mat1_tiled = tf.tile(tf.expand_dims(mat1,axis=1), [1,n_cols,1])\n",
    "        mat2_tiled = tf.tile(tf.expand_dims(mat2,axis=0), [n_rows,1,1])\n",
    "        mat = tf.reduce_sum(tf.abs(mat1_tiled-mat2_tiled),axis=-1)\n",
    "    else:\n",
    "        raise Exception('Invalid configure.abs_power set. Acceptable int values: {1, 2}')\n",
    "    return mat\n",
    "\n",
    "swag_graph = tf.Graph();\n",
    "with swag_graph.as_default():\n",
    "    mat1 = tf.get_variable('mat1', shape=[10,5], initializer=tf.contrib.layers.xavier_initializer());\n",
    "    mat2 = tf.get_variable('mat2', shape=[25,5], initializer=tf.contrib.layers.xavier_initializer());\n",
    "    compute_L1 = L1_L2_distances_v2(mat1, mat2, 1, 'L1')\n",
    "    compute_L2 = L1_L2_distances_v2(mat1, mat2, 2, 'L2')\n",
    "    _, top_k_L1 = tf.nn.top_k(compute_L1,k=3)\n",
    "    _, top_k_L2 = tf.nn.top_k(compute_L2,k=3)\n",
    "    L2_sorted = tf.contrib.framework.sort(compute_L2, axis=-1, direction='ASCENDING', name='sorted_L2')\n",
    "with tf.Session(graph=swag_graph) as sess:\n",
    "    tf.global_variables_initializer().run();\n",
    "    mat_L1, mat_L2, topK_L1, topK_L2, sorted_L2 = sess.run([compute_L1,compute_L2,top_k_L1,top_k_L2,L2_sorted]);"
   ]
  },
  {
   "cell_type": "code",
   "execution_count": null,
   "metadata": {
    "collapsed": true
   },
   "outputs": [],
   "source": [
    "# Compute number of similar items between two tensors\n",
    "import tensorflow as tf\n",
    "tf.reset_default_graph();\n",
    "e_graph = tf.Graph();\n",
    "with e_graph.as_default():\n",
    "    mat1 = tf.Variable([[1],[2],[5]], name='mat1');\n",
    "    mat2 = tf.Variable([[1,2,3,4,5],[1,2,3,4,5],[1,2,3,4,5]], name='mat2');\n",
    "    bool_mat = tf.equal(mat1,mat2);\n",
    "    ranks = tf.argmax(tf.cast(bool_mat,tf.int32), axis=-1);\n",
    "    mean_rank = tf.reduce_mean(tf.cast(ranks,tf.float32));\n",
    "    n_equal_in_total = tf.reduce_sum(tf.cast(bool_mat,tf.int32))/tf.size(bool_mat)\n",
    "    mr_booly = tf.reduce_mean(tf.cast(tf.less_equal(mat1,2),tf.float32));\n",
    "with tf.Session(graph=e_graph) as sess:\n",
    "    tf.global_variables_initializer().run();\n",
    "    mat1, mat2, bool_mat, ranks, mean_rank, n_equal_in_total, mr_booly = \\\n",
    "        sess.run([mat1, mat2, bool_mat, ranks, mean_rank, n_equal_in_total, mr_booly]);"
   ]
  }
 ],
 "metadata": {
  "kernelspec": {
   "display_name": "Python 3",
   "language": "python",
   "name": "python3"
  },
  "language_info": {
   "codemirror_mode": {
    "name": "ipython",
    "version": 3
   },
   "file_extension": ".py",
   "mimetype": "text/x-python",
   "name": "python",
   "nbconvert_exporter": "python",
   "pygments_lexer": "ipython3",
   "version": "3.6.1"
  }
 },
 "nbformat": 4,
 "nbformat_minor": 2
}
