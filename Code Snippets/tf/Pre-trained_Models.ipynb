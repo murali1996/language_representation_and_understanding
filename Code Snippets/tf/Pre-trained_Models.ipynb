{
 "cells": [
  {
   "cell_type": "code",
   "execution_count": null,
   "metadata": {
    "collapsed": true
   },
   "outputs": [],
   "source": [
    "# <TO be edited>\n",
    "import tensorflow as tf\n",
    "some_graph = tf.Graph();\n",
    "with tf.Session() as sess:\n",
    "    saver = tf.train.Saver();\n",
    "    # saver.restore(sess, tf.train.latest_checkpoint('./')); Defualt latest_checkpoint is 'checkpoint' file managfed by tf saver\n",
    "    saver.restore(sess,'./vgg16.ckpt')"
   ]
  }
 ],
 "metadata": {
  "kernelspec": {
   "display_name": "Python 3",
   "language": "python",
   "name": "python3"
  },
  "language_info": {
   "codemirror_mode": {
    "name": "ipython",
    "version": 3
   },
   "file_extension": ".py",
   "mimetype": "text/x-python",
   "name": "python",
   "nbconvert_exporter": "python",
   "pygments_lexer": "ipython3",
   "version": "3.6.1"
  }
 },
 "nbformat": 4,
 "nbformat_minor": 2
}
