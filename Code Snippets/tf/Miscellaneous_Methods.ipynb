{
 "cells": [
  {
   "cell_type": "markdown",
   "metadata": {},
   "source": [
    "# Map Function"
   ]
  },
  {
   "cell_type": "code",
   "execution_count": null,
   "metadata": {
    "collapsed": true
   },
   "outputs": [],
   "source": [
    "\n",
    "\n",
    "import tensorflow as tf\n",
    "tf.reset_default_graph();\n",
    "\n",
    "batch_size=32;\n",
    "n_entities = 1000;\n",
    "primus = tf.random_normal([batch_size,200])\n",
    "elems = tf.random_normal([n_entities,200])\n",
    "def f(x):\n",
    "    x_ = tf.tile(tf.expand_dims(x,axis=0),[batch_size,1]);\n",
    "    return tf.reduce_sum(tf.pow(primus-x_,2),axis=-1);\n",
    "y = tf.transpose(tf.map_fn(f, elems))\n",
    "z = tf.reduce_sum(tf.pow(tf.tile(tf.expand_dims(primus,1),[1,n_entities,1])-tf.tile(tf.expand_dims(elems,0),[batch_size,1,1]),2),axis=-1);\n",
    "with tf.Session(graph=tf.get_default_graph()) as sess:\n",
    "    sess.run(tf.global_variables_initializer());\n",
    "    yy,zz = sess.run([y,z])"
   ]
  },
  {
   "cell_type": "markdown",
   "metadata": {},
   "source": [
    "# Multiple Graphs"
   ]
  },
  {
   "cell_type": "code",
   "execution_count": null,
   "metadata": {
    "collapsed": true
   },
   "outputs": [],
   "source": [
    "'''\n",
    "Reading:\n",
    "1. https://stackoverflow.com/questions/35955144/working-with-multiple-graphs-in-tensorflow\n",
    "2. https://stackoverflow.com/questions/39614938/why-do-we-need-tensorflow-tf-graph\n",
    "\n",
    "TensorFlow:\n",
    "1. https://www.tensorflow.org/api_docs/python/tf/initializers\n",
    "2. https://www.tensorflow.org/api_docs/python/tf/get_variable\n",
    "3. https://www.tensorflow.org/api_docs/python/tf/GraphKeys\n",
    "4. https://www.tensorflow.org/programmers_guide/saved_model\n",
    "5. https://www.tensorflow.org/api_docs/python/tf/variable_scope\n",
    "'''"
   ]
  },
  {
   "cell_type": "code",
   "execution_count": null,
   "metadata": {
    "collapsed": true
   },
   "outputs": [],
   "source": [
    "import tensorflow as tf\n",
    "import numpy as np\n",
    "\n",
    "tf.reset_default_graph(); # Clean the slate\n",
    "g = tf.get_default_graph(); # The default tf graph\n",
    "\n",
    "# Graph-1\n",
    "tf.reset_default_graph(); # Clean the slate\n",
    "g1 = tf.Graph();\n",
    "with g1.as_default():\n",
    "    with tf.variable_scope('g1', reuse=tf.AUTO_REUSE):\n",
    "        inp_g1 = tf.placeholder(tf.float32, shape=[5,2], name='inp_g1');\n",
    "        var_g1 = tf.get_variable(\"var_g1\", shape=[2,5], initializer=tf.random_uniform_initializer(minval=-5, maxval=5))\n",
    "        prod_g1 = tf.matmul(inp_g1, var_g1, name='prod_g1');\n",
    "        print(tf.get_collection(tf.GraphKeys.GLOBAL_VARIABLES));\n",
    "# Graph-2\n",
    "tf.reset_default_graph(); # Clean the slate\n",
    "g2 = tf.Graph();\n",
    "with g2.as_default():\n",
    "    with tf.variable_scope('g2'):\n",
    "        inp_g2 = tf.placeholder(tf.float32, shape=[5,2], name='inp_g2');\n",
    "        var_g2 = tf.get_variable(\"var_g2\", shape=[5,2], initializer=tf.random_uniform_initializer(minval=-5, maxval=5))\n",
    "        prod_g2 = tf.multiply(inp_g2, var_g2, name='prod_g2');\n",
    "        print(tf.get_collection(tf.GraphKeys.GLOBAL_VARIABLES));\n",
    "\n",
    "# Data from external source\n",
    "inp_ = np.random.randint(low=-1,high=2,size=10).reshape([5,2])\n",
    "\n",
    "# Run something g1 and save\n",
    "tf.reset_default_graph(); # Clean the slate\n",
    "with tf.Session(graph=g1) as sess:\n",
    "    sess.run(tf.global_variables_initializer());\n",
    "    prod_g1_ = sess.run([prod_g1],feed_dict={inp_g1:inp_})[0];\n",
    "    saver = tf.train.Saver();\n",
    "    saver.save(sess, './g1_session.ckpt');\n",
    "# restore the graph and get selected variable's data\n",
    "tf.reset_default_graph(); # Clean the slate\n",
    "with tf.Session(graph=g1) as sess: # Specifying graph=g1 is a MUST here\n",
    "    saver = tf.train.Saver();\n",
    "    saver.restore(sess, './g1_session.ckpt')\n",
    "    var_g1__ = g1.get_tensor_by_name('g1/var_g1:0');\n",
    "    print('printing... ', var_g1);\n",
    "    var_g1_ = sess.run([var_g1__])[0];"
   ]
  }
 ],
 "metadata": {
  "kernelspec": {
   "display_name": "Python 3",
   "language": "python",
   "name": "python3"
  },
  "language_info": {
   "codemirror_mode": {
    "name": "ipython",
    "version": 3
   },
   "file_extension": ".py",
   "mimetype": "text/x-python",
   "name": "python",
   "nbconvert_exporter": "python",
   "pygments_lexer": "ipython3",
   "version": "3.6.1"
  }
 },
 "nbformat": 4,
 "nbformat_minor": 2
}
